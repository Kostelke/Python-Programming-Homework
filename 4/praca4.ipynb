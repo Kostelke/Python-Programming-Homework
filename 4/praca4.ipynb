{
 "cells": [
  {
   "cell_type": "code",
   "execution_count": 4,
   "id": "93acebc4-d97a-4d28-8b8c-266ad0ee48ef",
   "metadata": {},
   "outputs": [],
   "source": [
    "import numpy as np"
   ]
  },
  {
   "cell_type": "code",
   "execution_count": 6,
   "id": "f5da8a09-8fca-4609-9922-b3f56f90803d",
   "metadata": {},
   "outputs": [
    {
     "data": {
      "text/plain": [
       "array([0., 0., 0., 0., 0., 0., 0., 0., 0., 0.])"
      ]
     },
     "execution_count": 6,
     "metadata": {},
     "output_type": "execute_result"
    }
   ],
   "source": [
    "#Create an array of 10 zeros\n",
    "np.zeros(10)"
   ]
  },
  {
   "cell_type": "code",
   "execution_count": 7,
   "id": "ccd14c0e-8bd7-4d82-9fdf-4aba36b8d813",
   "metadata": {},
   "outputs": [
    {
     "data": {
      "text/plain": [
       "array([1., 1., 1., 1., 1., 1., 1., 1., 1., 1.])"
      ]
     },
     "execution_count": 7,
     "metadata": {},
     "output_type": "execute_result"
    }
   ],
   "source": [
    "# Create an array of 10 ones\n",
    "np.ones(10)"
   ]
  },
  {
   "cell_type": "code",
   "execution_count": 9,
   "id": "53290504-8025-4f9e-9ec5-7b8cb62db2d7",
   "metadata": {},
   "outputs": [
    {
     "data": {
      "text/plain": [
       "array([5., 5., 5., 5., 5., 5., 5., 5., 5., 5.])"
      ]
     },
     "execution_count": 9,
     "metadata": {},
     "output_type": "execute_result"
    }
   ],
   "source": [
    "# Create an array of 10 fives\n",
    "np.ones(10)*5"
   ]
  },
  {
   "cell_type": "code",
   "execution_count": 11,
   "id": "720b2b82-6be2-4db0-8580-5342e9c11bc7",
   "metadata": {},
   "outputs": [
    {
     "name": "stdout",
     "output_type": "stream",
     "text": [
      "[10 11 12 13 14 15 16 17 18 19 20 21 22 23 24 25 26 27 28 29 30 31 32 33\n",
      " 34 35 36 37 38 39 40 41 42 43 44 45 46 47 48 49 50]\n"
     ]
    }
   ],
   "source": [
    "# Create an array of integers from 10 to 50\n",
    "t = np.arange(10, 51)\n",
    "print(t)"
   ]
  },
  {
   "cell_type": "code",
   "execution_count": 12,
   "id": "2084e435-6d8e-45f9-a9c4-4da166d1989c",
   "metadata": {},
   "outputs": [
    {
     "name": "stdout",
     "output_type": "stream",
     "text": [
      "[10 12 14 16 18 20 22 24 26 28 30 32 34 36 38 40 42 44 46 48 50]\n"
     ]
    }
   ],
   "source": [
    "# Create an array of all the even integers from 10 to 50\n",
    "t = np.arange(10, 51, 2)\n",
    "print(t)"
   ]
  },
  {
   "cell_type": "code",
   "execution_count": 14,
   "id": "d97155ec-6263-46e0-a599-8225355e3b8e",
   "metadata": {},
   "outputs": [
    {
     "name": "stdout",
     "output_type": "stream",
     "text": [
      "[[ 3  4  5]\n",
      " [ 6  7  8]\n",
      " [ 9 10 11]]\n"
     ]
    }
   ],
   "source": [
    "# Create a 3x3 matrix with values ranging from 3 to 11\n",
    "mat = np.arange(3, 12).reshape(3, 3)\n",
    "print(mat)"
   ]
  },
  {
   "cell_type": "code",
   "execution_count": 15,
   "id": "7e01c01c-936a-4fe1-a62f-8f2a42152a0b",
   "metadata": {},
   "outputs": [
    {
     "name": "stdout",
     "output_type": "stream",
     "text": [
      "[[1. 0. 0.]\n",
      " [0. 1. 0.]\n",
      " [0. 0. 1.]]\n"
     ]
    }
   ],
   "source": [
    "# Create a 3x3 identity matrix\n",
    "mat = np.eye(3)\n",
    "print(mat)"
   ]
  },
  {
   "cell_type": "code",
   "execution_count": 16,
   "id": "664ed4b1-5a99-44e0-a660-4c300dd0324b",
   "metadata": {},
   "outputs": [
    {
     "data": {
      "text/plain": [
       "0.935238146522394"
      ]
     },
     "execution_count": 16,
     "metadata": {},
     "output_type": "execute_result"
    }
   ],
   "source": [
    "# Use NumPy to generate a random number between 0 and 1\n",
    "np.random.rand()"
   ]
  },
  {
   "cell_type": "code",
   "execution_count": 17,
   "id": "2c62c6cb-4528-4ade-8aca-c17a5f0f4e61",
   "metadata": {},
   "outputs": [
    {
     "data": {
      "text/plain": [
       "array([ 0.95739048, -0.228811  ,  0.17349976, -0.80137891,  0.16698569,\n",
       "       -1.9194722 ,  0.19694834,  0.18624198,  0.80183065,  0.14754099,\n",
       "       -1.24740133, -2.09286133, -0.96797971, -0.06851318,  0.34424645,\n",
       "       -1.38913903,  1.67780167, -0.03898724, -0.33987709, -2.13588073,\n",
       "        1.37100325, -0.94526632,  0.93129377, -0.21304978,  0.20921397])"
      ]
     },
     "execution_count": 17,
     "metadata": {},
     "output_type": "execute_result"
    }
   ],
   "source": [
    "# Use NumPy to generate an array of 25 random numbers sampled from a standard normal distribution\n",
    "np.random.randn(25)"
   ]
  },
  {
   "cell_type": "code",
   "execution_count": 18,
   "id": "aa5e96de-7603-456f-84ae-f6a8e0852b92",
   "metadata": {},
   "outputs": [
    {
     "data": {
      "text/plain": [
       "array([[0.01, 0.02, 0.03, 0.04, 0.05, 0.06, 0.07, 0.08, 0.09, 0.1 ],\n",
       "       [0.11, 0.12, 0.13, 0.14, 0.15, 0.16, 0.17, 0.18, 0.19, 0.2 ],\n",
       "       [0.21, 0.22, 0.23, 0.24, 0.25, 0.26, 0.27, 0.28, 0.29, 0.3 ],\n",
       "       [0.31, 0.32, 0.33, 0.34, 0.35, 0.36, 0.37, 0.38, 0.39, 0.4 ],\n",
       "       [0.41, 0.42, 0.43, 0.44, 0.45, 0.46, 0.47, 0.48, 0.49, 0.5 ],\n",
       "       [0.51, 0.52, 0.53, 0.54, 0.55, 0.56, 0.57, 0.58, 0.59, 0.6 ],\n",
       "       [0.61, 0.62, 0.63, 0.64, 0.65, 0.66, 0.67, 0.68, 0.69, 0.7 ],\n",
       "       [0.71, 0.72, 0.73, 0.74, 0.75, 0.76, 0.77, 0.78, 0.79, 0.8 ],\n",
       "       [0.81, 0.82, 0.83, 0.84, 0.85, 0.86, 0.87, 0.88, 0.89, 0.9 ],\n",
       "       [0.91, 0.92, 0.93, 0.94, 0.95, 0.96, 0.97, 0.98, 0.99, 1.  ]])"
      ]
     },
     "execution_count": 18,
     "metadata": {},
     "output_type": "execute_result"
    }
   ],
   "source": [
    "# Create the following matrix:\n",
    "np.arange(1, 101).reshape(10, 10) / 100"
   ]
  },
  {
   "cell_type": "code",
   "execution_count": 19,
   "id": "47b26d3a-05cc-406d-a62d-31a99dfcfc90",
   "metadata": {},
   "outputs": [
    {
     "data": {
      "text/plain": [
       "array([0.        , 0.05263158, 0.10526316, 0.15789474, 0.21052632,\n",
       "       0.26315789, 0.31578947, 0.36842105, 0.42105263, 0.47368421,\n",
       "       0.52631579, 0.57894737, 0.63157895, 0.68421053, 0.73684211,\n",
       "       0.78947368, 0.84210526, 0.89473684, 0.94736842, 1.        ])"
      ]
     },
     "execution_count": 19,
     "metadata": {},
     "output_type": "execute_result"
    }
   ],
   "source": [
    "# Create an array of 20 linearly spaced points between 0 and 1:\n",
    "# array([ 0.        ,  0.05263158,  0.10526316,  0.15789474,  0.21052632,\n",
    "#         0.26315789,  0.31578947,  0.36842105,  0.42105263,  0.47368421,\n",
    "#         0.52631579,  0.57894737,  0.63157895,  0.68421053,  0.73684211,\n",
    "#         0.78947368,  0.84210526,  0.89473684,  0.94736842,  1.        ])\n",
    "np.linspace(0, 1, 20)"
   ]
  },
  {
   "cell_type": "code",
   "execution_count": 20,
   "id": "cc36ee9b-1807-46fc-9fc9-36d2670047c2",
   "metadata": {},
   "outputs": [
    {
     "data": {
      "text/plain": [
       "array([[ 1,  2,  3,  4,  5],\n",
       "       [ 6,  7,  8,  9, 10],\n",
       "       [11, 12, 13, 14, 15],\n",
       "       [16, 17, 18, 19, 20],\n",
       "       [21, 22, 23, 24, 25]])"
      ]
     },
     "execution_count": 20,
     "metadata": {},
     "output_type": "execute_result"
    }
   ],
   "source": [
    "# Numpy Indexing and Selection\n",
    "# Now you will be given a few matrices, and be asked to replicate the resulting matrix outputs:\n",
    "\n",
    "mat = np.arange(1,26).reshape(5,5)\n",
    "mat\n"
   ]
  },
  {
   "cell_type": "code",
   "execution_count": 23,
   "id": "a1d4b605-ba6a-4524-b5a7-70796ac6d04d",
   "metadata": {},
   "outputs": [
    {
     "data": {
      "text/plain": [
       "array([[12, 13, 14, 15],\n",
       "       [17, 18, 19, 20],\n",
       "       [22, 23, 24, 25]])"
      ]
     },
     "execution_count": 23,
     "metadata": {},
     "output_type": "execute_result"
    }
   ],
   "source": [
    "\n",
    "# WRITE CODE HER\n",
    "# THAT REPRODUCES THE OUTPUT OF THE CELL BELOW BE CAREFUL NOT TO RUN THE CELL BELOW, OTHERWISE YOU WON'T BE ABLE TO SEE THE OUTPUT ANY MORE\n",
    "\n",
    "# a)\n",
    "\n",
    "# array([[12, 13, 14, 15],\n",
    "#        [17, 18, 19, 20],\n",
    "#        [22, 23, 24, 25]])\n",
    "mat[2:,1:]"
   ]
  },
  {
   "cell_type": "code",
   "execution_count": 24,
   "id": "fac1f5b7-6fb1-4760-990c-64d1b004a27b",
   "metadata": {},
   "outputs": [
    {
     "data": {
      "text/plain": [
       "20"
      ]
     },
     "execution_count": 24,
     "metadata": {},
     "output_type": "execute_result"
    }
   ],
   "source": [
    "\n",
    "# b)\n",
    "\n",
    "# 20\n",
    "mat[3,4]"
   ]
  },
  {
   "cell_type": "code",
   "execution_count": 27,
   "id": "0c8675f5-92a8-499a-b24a-68f9a67f6379",
   "metadata": {},
   "outputs": [
    {
     "data": {
      "text/plain": [
       "array([[ 2],\n",
       "       [ 7],\n",
       "       [12]])"
      ]
     },
     "execution_count": 27,
     "metadata": {},
     "output_type": "execute_result"
    }
   ],
   "source": [
    "\n",
    "# c)\n",
    "\n",
    "# array([[ 2],\n",
    "#        [ 7],\n",
    "#        [12]])\n",
    "mat[:3,1:2]"
   ]
  },
  {
   "cell_type": "code",
   "execution_count": 28,
   "id": "647fbc09-1d1d-493f-861c-06348ab06ca6",
   "metadata": {},
   "outputs": [
    {
     "data": {
      "text/plain": [
       "array([21, 22, 23, 24, 25])"
      ]
     },
     "execution_count": 28,
     "metadata": {},
     "output_type": "execute_result"
    }
   ],
   "source": [
    "# d)\n",
    "\n",
    "# array([21, 22, 23, 24, 25])\n",
    "mat[4,:]"
   ]
  },
  {
   "cell_type": "code",
   "execution_count": 31,
   "id": "4635d480-2899-4665-8017-f978e25f84fb",
   "metadata": {},
   "outputs": [
    {
     "data": {
      "text/plain": [
       "array([[16, 17, 18, 19, 20],\n",
       "       [21, 22, 23, 24, 25]])"
      ]
     },
     "execution_count": 31,
     "metadata": {},
     "output_type": "execute_result"
    }
   ],
   "source": [
    "# e)\n",
    "\n",
    "# array([[16, 17, 18, 19, 20],\n",
    "#        [21, 22, 23, 24, 25]])\n",
    "mat[3:5,:]"
   ]
  },
  {
   "cell_type": "code",
   "execution_count": 32,
   "id": "886125c5-cc4f-411e-811f-4b718aae1f43",
   "metadata": {},
   "outputs": [
    {
     "data": {
      "text/plain": [
       "325"
      ]
     },
     "execution_count": 32,
     "metadata": {},
     "output_type": "execute_result"
    }
   ],
   "source": [
    "# Now do the following\n",
    "# Get the sum of all the values in mat\n",
    "# 325\n",
    "mat.sum()"
   ]
  },
  {
   "cell_type": "code",
   "execution_count": 33,
   "id": "f739be3c-eb49-410f-91fa-c5e5c219c120",
   "metadata": {},
   "outputs": [
    {
     "data": {
      "text/plain": [
       "7.211102550927978"
      ]
     },
     "execution_count": 33,
     "metadata": {},
     "output_type": "execute_result"
    }
   ],
   "source": [
    "# Get the standard deviation of the values in mat\n",
    "# 7.2111025509279782\n",
    "mat.std()"
   ]
  },
  {
   "cell_type": "code",
   "execution_count": 34,
   "id": "f2525040-15a3-4e7d-9f3a-28de9490589f",
   "metadata": {},
   "outputs": [
    {
     "data": {
      "text/plain": [
       "array([55, 60, 65, 70, 75])"
      ]
     },
     "execution_count": 34,
     "metadata": {},
     "output_type": "execute_result"
    }
   ],
   "source": [
    "# Get the sum of all the columns in mat\n",
    "# array([55, 60, 65, 70, 75])\n",
    "mat.sum(axis=0)"
   ]
  },
  {
   "cell_type": "code",
   "execution_count": 35,
   "id": "41d6c7d1-b400-4010-b8e1-074e74b78d85",
   "metadata": {},
   "outputs": [
    {
     "data": {
      "text/plain": [
       "array([11., 12., 13., 14., 15.])"
      ]
     },
     "execution_count": 35,
     "metadata": {},
     "output_type": "execute_result"
    }
   ],
   "source": [
    "# Find median values in all columns\n",
    "# [11. 12. 13. 14. 15.]\n",
    "np.median(mat,axis=0)"
   ]
  },
  {
   "cell_type": "code",
   "execution_count": 37,
   "id": "07bd4c1f-5715-4d6a-8548-88e6317edf68",
   "metadata": {},
   "outputs": [
    {
     "data": {
      "text/plain": [
       "array([11., 12., 13., 14., 15.])"
      ]
     },
     "execution_count": 37,
     "metadata": {},
     "output_type": "execute_result"
    }
   ],
   "source": [
    "# Find average values in all columns\n",
    "# '[11. 12. 13. 14. 15.]'\n",
    "np.mean(mat,axis=0)"
   ]
  },
  {
   "cell_type": "code",
   "execution_count": 38,
   "id": "157c90b7-ee99-402a-84bf-f5decd09165a",
   "metadata": {},
   "outputs": [
    {
     "data": {
      "text/plain": [
       "array([ 3.,  8., 13., 18., 23.])"
      ]
     },
     "execution_count": 38,
     "metadata": {},
     "output_type": "execute_result"
    }
   ],
   "source": [
    "# Find median values in all rows\n",
    "# [ 3. 8. 13. 18. 23.]\n",
    "np.median(mat,axis=1)"
   ]
  },
  {
   "cell_type": "code",
   "execution_count": 39,
   "id": "dee25b1c-5730-452c-a1be-30dd3f34a4aa",
   "metadata": {},
   "outputs": [
    {
     "data": {
      "text/plain": [
       "array([ 3.,  8., 13., 18., 23.])"
      ]
     },
     "execution_count": 39,
     "metadata": {},
     "output_type": "execute_result"
    }
   ],
   "source": [
    "# Find average values in all rows\n",
    "# [ 3. 8. 13. 18. 23.]\n",
    "np.mean(mat,axis=1)"
   ]
  },
  {
   "cell_type": "code",
   "execution_count": 44,
   "id": "993bec1f-0ab3-4cdb-a868-6f0a56a0bec9",
   "metadata": {},
   "outputs": [
    {
     "data": {
      "text/plain": [
       "array([  2,  20,  72,  50,  42,   6,  93,  96,  42,  95,  75,  49, 100,\n",
       "        65,  91,  39,  55,  17,  32,  75])"
      ]
     },
     "execution_count": 44,
     "metadata": {},
     "output_type": "execute_result"
    }
   ],
   "source": [
    "# Boolean Masking & Conditional Selection. Create an array of 20 random integers between 1 and 100.\n",
    "ranMat = np.random.randint(1, 101, 20)\n",
    "ranMat\n"
   ]
  },
  {
   "cell_type": "code",
   "execution_count": 43,
   "id": "20b1274a-f759-47a8-9eff-e570f172e1d5",
   "metadata": {},
   "outputs": [
    {
     "data": {
      "text/plain": [
       "array([72, 64, 65, 80, 82, 90, 62, 87, 95, 59, 52, 82, 72])"
      ]
     },
     "execution_count": 43,
     "metadata": {},
     "output_type": "execute_result"
    }
   ],
   "source": [
    "# Extract all values greater than 50 using boolean indexing.\n",
    "ranMat[ranMat>50]"
   ]
  },
  {
   "cell_type": "code",
   "execution_count": 49,
   "id": "e352ef3a-0645-4780-8790-de6cbca7aa98",
   "metadata": {},
   "outputs": [
    {
     "name": "stdout",
     "output_type": "stream",
     "text": [
      "[[10. 10. 10. 10. 10.]\n",
      " [10. 10. 10. 10. 10.]\n",
      " [10. 10. 10. 10. 10.]\n",
      " [10. 10. 10. 10. 10.]\n",
      " [10. 10. 10. 10. 10.]]\n"
     ]
    },
    {
     "data": {
      "text/plain": [
       "array([[9., 8., 7., 6., 5.],\n",
       "       [9., 8., 7., 6., 5.],\n",
       "       [9., 8., 7., 6., 5.],\n",
       "       [9., 8., 7., 6., 5.],\n",
       "       [9., 8., 7., 6., 5.]])"
      ]
     },
     "execution_count": 49,
     "metadata": {},
     "output_type": "execute_result"
    }
   ],
   "source": [
    "# Broadcasting. Create a 5×5 matrix with all elements equal to 10. Subtract a 1D array [1, 2, 3, 4, 5] from each row using broadcasting.\n",
    "matTen = np.ones((5,5))*10\n",
    "print(matTen)\n",
    "result = matTen - np.array([1, 2, 3, 4, 5])\n",
    "result"
   ]
  },
  {
   "cell_type": "code",
   "execution_count": 75,
   "id": "e0a7c62e-6373-453b-a754-f39d324426cc",
   "metadata": {},
   "outputs": [
    {
     "data": {
      "image/png": "[encoded data removed]",
      "text/plain": [
       "<Figure size 1000x500 with 1 Axes>"
      ]
     },
     "metadata": {},
     "output_type": "display_data"
    },
    {
     "data": {
      "image/png": "[encoded data removed]",
      "text/plain": [
       "<Figure size 1000x500 with 1 Axes>"
      ]
     },
     "metadata": {},
     "output_type": "display_data"
    }
   ],
   "source": [
    "\n",
    "\n",
    "\n",
    "# Matplotlib exercise\n",
    "# Read the data attached in ISOD about the crimes in Los Angeles from 2010. And generate a histogram analyzing the number of crimes committed along the day. Show the hour of day distribution of crimes using two kinds of plots: histiogram and a scatter plot. (Caution! For scatter plot you will have to calculate number of crime occurrences in each hour.)\n",
    "\n",
    "# Generate the plot similar to:\n",
    "\n",
    "\n",
    "\n",
    "\n",
    "\n",
    "# Useful functions and modules:\n",
    "\n",
    "# import csv\n",
    "# import csv\n",
    "# with open('file') as f:\n",
    "#   reader = csv.reader(f, delimiter=',')\n",
    "#   for row in reader:\n",
    "#     print(row)\n",
    "# Assuming that occurances_hours is a list with an hour for each occurrence ax.hist(occurances_hours, rwidth=0.9, bins=12), eg.:\n",
    "# occurances_hours = [23,24,23,23,1,6,1,...]\n",
    "# you may need to explicitely set xticks with:\n",
    "# ax.set_xticks(...)\n",
    "# use collections for counting objects\n",
    "# import collections\n",
    "# cnt = collections.Counter(occurances_hours)\n",
    "# use ax.annotate(...) to draw a pointer to maximum value\n",
    "# ax.annotate(f'The maximum value: {max(y)}', xytext=(3,160),xy=(19, 171),\n",
    "#             arrowprops=dict(arrowstyle=\"->\",lw=2))\n",
    "import csv\n",
    "import matplotlib.pyplot as plt\n",
    "import collections\n",
    "\n",
    "# Step 1: Read the data and extract hours\n",
    "occurances_hours = []\n",
    "\n",
    "with open('Crime_Data_from_2010_small.csv', 'r') as f:  # replace with your actual filename\n",
    "    reader = csv.DictReader(f)\n",
    "    for row in reader:\n",
    "        time_str = row['Time Occurred'].strip()\n",
    "        if time_str.isdigit():\n",
    "            # Convert time like '1800' -> 18, '2300' -> 23\n",
    "            hour = int(time_str) // 100\n",
    "            if 0 <= hour <= 23:\n",
    "                occurances_hours.append(hour)\n",
    "\n",
    "# Step 2: Histogram\n",
    "fig, ax = plt.subplots(figsize=(10, 5))\n",
    "ax.hist(occurances_hours, bins=12, range=(0,24), rwidth=0.9,)\n",
    "# Set white grid lines with custom background color\n",
    "ax.grid(True, color='white', linestyle='-', linewidth=1)\n",
    "ax.set_axisbelow(True)\n",
    "rgb_255 = (229,228,240)\n",
    "rgb_01 = tuple(c/255 for c in rgb_255)  # converts to 0-1 scale\n",
    "ax.set_facecolor(rgb_01)  # AliceBlue color, a subtle off-blue-white shade\n",
    "ax.set_xlabel('Hour of Day')\n",
    "ax.set_ylabel('Number of Crimes')\n",
    "ax.set_title('Crime Occurrences by Hour (Histogram)')\n",
    "ax.set_xticks(range(1,25,2))\n",
    "plt.grid(True)\n",
    "plt.show()\n",
    "\n",
    "\n",
    "cnt = collections.Counter(occurances_hours)\n",
    "hours = list(range(24))\n",
    "counts = [cnt.get(h, 0) for h in hours]\n",
    "\n",
    "fig, ax = plt.subplots(figsize=(10, 5))\n",
    "ax.grid(True, color='white', linestyle='-', linewidth=1)\n",
    "ax.set_axisbelow(True)\n",
    "rgb_255 = (229,228,240)\n",
    "rgb_01 = tuple(c/255 for c in rgb_255)  # converts to 0-1 scale\n",
    "ax.set_facecolor(rgb_01)  # AliceBlue color, a subtle off-blue-white shade\n",
    "ax.scatter(hours, counts)\n",
    "ax.set_xticks(range(0, 26, 5))\n",
    "ax.set_xlabel('Hour of Day')\n",
    "ax.set_ylabel('Number of Crimes')\n",
    "ax.set_title('Crime Occurrences by Hour (Scatter Plot)')\n",
    "ax.annotate(f'The maximum value: {max(counts)}', xytext=(3,160),xy=(19, 171),\n",
    "            arrowprops=dict(arrowstyle=\"->\",lw=2))\n",
    "plt.grid(True)\n",
    "plt.show()"
   ]
  },
  {
   "cell_type": "code",
   "execution_count": null,
   "id": "dc76cdae-d185-4fcc-be3a-dbc059bed823",
   "metadata": {},
   "outputs": [],
   "source": [
    "\n",
    "Implement a Gaussian elimination algorithm with a function taking two arguments: A - the matrix, b - right hand side vector\n",
    "A⋅x=b\n",
    "\n",
    "Inside gaussian function you should create a copy of original matrix A, and create an augmented matrix of the form:\n",
    "\n",
    "Aaug=[Ab]\n",
    "\n",
    "and then perform the Gaussian elimination.\n",
    "\n",
    "def gaussian(A,b):\n",
    "  ...\n",
    "  return A_aug\n",
    "Implement a backward substitution and find a solution\n",
    "A = np.arange(1, 17, dtype=np.float64).reshape(4,4)\n",
    "A[1,2] = 88\n",
    "A[1,3] = -3\n",
    "A[2,3] = -3\n",
    "print(f'A = {A}')\n",
    "\n",
    "x = np.ones(A.shape[0])\n",
    "print(f'Original x = {x}')\n",
    "b = A  @ x.T\n",
    "print(f'Right hand side for testing: b = {b}')\n",
    "\n",
    "\n",
    "Ae = gaussian(A, b)\n",
    "print(f'Check if A was unchanged ')\n",
    "print(f'Eliminated augmented matrix:\\n {Ae}')\n",
    "print(f'Eliminated augmented matrix A part: {Ae[:,:-1]}')\n",
    "print(f'Eliminated augmented matrix b part: {Ae[:,Ae.shape[1]-1]}')\n",
    "\n",
    "# Find solution\n",
    "x = back(Ae[:,:-1],Ae[:,Ae.shape[1]-1])\n",
    "print(f'Solution: {x}')\n",
    "Output:\n",
    "\n",
    "A = [[ 1.  2.  3.  4.]\n",
    " [ 5.  6. 88. -3.]\n",
    " [ 9. 10. 11. -3.]\n",
    " [13. 14. 15. 16.]]\n",
    "Original x = [1. 1. 1. 1.]\n",
    "Right hand side for testing: b = [10. 96. 27. 58.]\n",
    "Check if A was unchanged\n",
    "Eliminated augmented matrix:\n",
    " [[   1.     2.     3.     4.    10. ]\n",
    " [   0.    -4.    73.   -23.    46. ]\n",
    " [   0.     0.  -162.     7.  -155. ]\n",
    " [   0.     0.     0.    22.5   22.5]]\n",
    "Eliminated augmented matrix A part: [[   1.     2.     3.     4. ]\n",
    " [   0.    -4.    73.   -23. ]\n",
    " [   0.     0.  -162.     7. ]\n",
    " [   0.     0.     0.    22.5]]\n",
    "Eliminated augmented matrix b part: [  10.    46.  -155.    22.5]\n",
    "Solution: [1. 1. 1. 1.]"
   ]
  },
  {
   "cell_type": "code",
   "execution_count": 76,
   "id": "86f74a47-2d40-47b7-8681-485136b69ed0",
   "metadata": {},
   "outputs": [
    {
     "name": "stdout",
     "output_type": "stream",
     "text": [
      "A = [[ 1.  2.  3.  4.]\n",
      " [ 5.  6. 88. -3.]\n",
      " [ 9. 10. 11. -3.]\n",
      " [13. 14. 15. 16.]]\n",
      "Original x = [1. 1. 1. 1.]\n",
      "Right hand side for testing: b = [10. 96. 27. 58.]\n",
      "Eliminated augmented matrix:\n",
      "[[   1.     2.     3.     4.    10. ]\n",
      " [   0.    -4.    73.   -23.    46. ]\n",
      " [   0.     0.  -162.     7.  -155. ]\n",
      " [   0.     0.     0.    22.5   22.5]]\n",
      "Eliminated augmented matrix A part:\n",
      "[[   1.     2.     3.     4. ]\n",
      " [   0.    -4.    73.   -23. ]\n",
      " [   0.     0.  -162.     7. ]\n",
      " [   0.     0.     0.    22.5]]\n",
      "Eliminated augmented matrix b part:\n",
      "[  10.    46.  -155.    22.5]\n",
      "Solution: [1. 1. 1. 1.]\n"
     ]
    }
   ],
   "source": [
    "def gaussian(A, b):\n",
    "    A = A.copy()\n",
    "    n = A.shape[0]\n",
    "    # Create augmented matrix\n",
    "    A_aug = np.hstack((A, b.reshape(-1,1)))\n",
    "\n",
    "    for i in range(n):\n",
    "        # Pivoting could be added here for stability\n",
    "        pivot = A_aug[i,i]\n",
    "        if pivot == 0:\n",
    "            raise ValueError(\"Zero pivot encountered!\")\n",
    "        for j in range(i+1, n):\n",
    "            factor = A_aug[j,i] / pivot\n",
    "            A_aug[j,i:] = A_aug[j,i:] - factor * A_aug[i,i:]\n",
    "    return A_aug\n",
    "\n",
    "def back(A, b):\n",
    "    n = A.shape[0]\n",
    "    x = np.zeros(n)\n",
    "    for i in range(n-1, -1, -1):\n",
    "        x[i] = (b[i] - np.dot(A[i,i+1:], x[i+1:])) / A[i,i]\n",
    "    return x\n",
    "\n",
    "# Given example:\n",
    "A = np.arange(1, 17, dtype=np.float64).reshape(4, 4)\n",
    "A[1,2] = 88\n",
    "A[1,3] = -3\n",
    "A[2,3] = -3\n",
    "print(f'A = {A}')\n",
    "\n",
    "x = np.ones(A.shape[0])\n",
    "print(f'Original x = {x}')\n",
    "b = A @ x.T\n",
    "print(f'Right hand side for testing: b = {b}')\n",
    "\n",
    "Ae = gaussian(A, b)\n",
    "print(f'Eliminated augmented matrix:\\n{Ae}')\n",
    "print(f'Eliminated augmented matrix A part:\\n{Ae[:, :-1]}')\n",
    "print(f'Eliminated augmented matrix b part:\\n{Ae[:, -1]}')\n",
    "\n",
    "x_sol = back(Ae[:, :-1], Ae[:, -1])\n",
    "print(f'Solution: {x_sol}')\n"
   ]
  },
  {
   "cell_type": "markdown",
   "id": "0960a822-e90c-4cd2-83c0-161bda30e48e",
   "metadata": {},
   "source": [
    "Simulating Data with NumPy\n",
    "Generate a dataset of 1000 points that follow a linear function y = 3x + 5 with normally distributed noise.\n",
    "Fit a linear model using NumPy’s least squares method.\n",
    "Convolution. Implement a simple image blurring effect using a 3×3 kernel and np.convolve.\n",
    "Great Job!"
   ]
  },
  {
   "cell_type": "code",
   "execution_count": 78,
   "id": "390e077b-f63f-4755-a827-d56b3fc4478c",
   "metadata": {},
   "outputs": [
    {
     "name": "stdout",
     "output_type": "stream",
     "text": [
      "Fitted line: y = 3.01x + 4.93\n"
     ]
    }
   ],
   "source": [
    "x = np.linspace(0, 10, 1000)\n",
    "noise = np.random.normal(0, 1, 1000)\n",
    "y = 3 * x + 5 + noise\n",
    "A = np.vstack([x, np.ones(len(x))]).T\n",
    "m, c = np.linalg.lstsq(A, y, rcond=None)[0]\n",
    "\n",
    "print(f'Fitted line: y = {m:.2f}x + {c:.2f}')"
   ]
  },
  {
   "cell_type": "code",
   "execution_count": null,
   "id": "086e3db5-5e57-4d8d-8f5a-c9b0430ec421",
   "metadata": {},
   "outputs": [],
   "source": [
    "Convolution. Implement a simple image blurring effect using a 3×3 kernel and np.convolve."
   ]
  },
  {
   "cell_type": "code",
   "execution_count": 81,
   "id": "1a865d7a-e9c3-4372-a5c8-46d61fb258c0",
   "metadata": {},
   "outputs": [
    {
     "data": {
      "image/png": "[encoded data removed]",
      "text/plain": [
       "<Figure size 640x480 with 2 Axes>"
      ]
     },
     "metadata": {},
     "output_type": "display_data"
    },
    {
     "data": {
      "image/png": "[encoded data removed]",
      "text/plain": [
       "<Figure size 640x480 with 2 Axes>"
      ]
     },
     "metadata": {},
     "output_type": "display_data"
    }
   ],
   "source": [
    "\n",
    "# Example image \n",
    "image = np.random.randint(0, 256, size=(50, 50), dtype=np.uint8)\n",
    "\n",
    "plt.imshow(image, cmap='gray', interpolation='nearest')\n",
    "plt.title(\"Original Image\")\n",
    "plt.colorbar(label='Pixel intensity')\n",
    "plt.axis('off')  # Hide axis ticks\n",
    "plt.show()\n",
    "\n",
    "kernel = np.array([1, 1, 1]) / 3.0\n",
    "\n",
    "# Step 1: Apply blur across rows\n",
    "row_blurred = np.array([np.convolve(row, kernel, mode='same') for row in image])\n",
    "\n",
    "# Step 2: Apply blur across columns (transpose, convolve, transpose back)\n",
    "col_blurred = np.array([np.convolve(col, kernel, mode='same') for col in row_blurred.T]).T\n",
    "\n",
    "plt.imshow(col_blurred, cmap='gray', interpolation='nearest')\n",
    "plt.title(\"Blurred Image\")\n",
    "plt.colorbar(label='Pixel intensity')\n",
    "plt.axis('off')  # Hide axis ticks\n",
    "plt.show()\n"
   ]
  },
  {
   "cell_type": "code",
   "execution_count": null,
   "id": "a8702b3b-3233-46a8-a313-1fe3a490f0f6",
   "metadata": {},
   "outputs": [],
   "source": []
  }
 ],
 "metadata": {
  "kernelspec": {
   "display_name": "Python 3 (ipykernel)",
   "language": "python",
   "name": "python3"
  },
  "language_info": {
   "codemirror_mode": {
    "name": "ipython",
    "version": 3
   },
   "file_extension": ".py",
   "mimetype": "text/x-python",
   "name": "python",
   "nbconvert_exporter": "python",
   "pygments_lexer": "ipython3",
   "version": "3.11.0"
  }
 },
 "nbformat": 4,
 "nbformat_minor": 5
}
