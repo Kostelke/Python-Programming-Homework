{
 "cells": [
  {
   "cell_type": "markdown",
   "id": "a90c65e7-04a1-4c7f-9e69-9659ce3ba990",
   "metadata": {},
   "source": [
    "**What is 7 to the power of 4?**"
   ]
  },
  {
   "cell_type": "code",
   "execution_count": 2,
   "id": "6841a3ae-655d-47f2-9ca4-2a89ec10af89",
   "metadata": {},
   "outputs": [
    {
     "name": "stdout",
     "output_type": "stream",
     "text": [
      "2401\n"
     ]
    }
   ],
   "source": [
    "print(7**4)"
   ]
  },
  {
   "cell_type": "markdown",
   "id": "a42606bf-0128-4855-885f-eb6034c2ba5b",
   "metadata": {},
   "source": [
    "**Split this string:\n",
    "s = \"Hi there Sam!\"\n",
    "into a list and replace Sam with dad (make it case insensitive).**"
   ]
  },
  {
   "cell_type": "code",
   "execution_count": 4,
   "id": "370cc93e-5302-489a-a821-baede2ffef70",
   "metadata": {},
   "outputs": [
    {
     "name": "stdout",
     "output_type": "stream",
     "text": [
      "['Hi', 'there', 'dad!']\n"
     ]
    }
   ],
   "source": [
    "import re\n",
    "\n",
    "s = \"Hi there Sam!\"\n",
    "words = s.split()\n",
    "words = [re.sub(r'sam', 'dad', word, flags=re.IGNORECASE) for word in words]\n",
    "print(words)"
   ]
  },
  {
   "cell_type": "markdown",
   "id": "5e45169b-eaee-485e-bae4-7aa74fcbae90",
   "metadata": {},
   "source": [
    "**Given the variables:\n",
    "planet = \"Earth\"\n",
    "diameter = 12742\n",
    "Use .format() to print the following string:\n",
    "The diameter of Earth is 12742 kilometers.**"
   ]
  },
  {
   "cell_type": "code",
   "execution_count": 5,
   "id": "3156f82f-31b2-40fb-a640-d7ef956e0e51",
   "metadata": {},
   "outputs": [
    {
     "name": "stdout",
     "output_type": "stream",
     "text": [
      "The diameter of Earth is 12742 kilometers.\n"
     ]
    }
   ],
   "source": [
    "planet = \"Earth\"\n",
    "diameter = 12742\n",
    "print(\"The diameter of {} is {} kilometers.\".format(planet, diameter))\n"
   ]
  },
  {
   "cell_type": "markdown",
   "id": "8d1a22d1-7ae3-4598-b94d-dfee7f4e6300",
   "metadata": {},
   "source": [
    "**Given the variables:\n",
    "planet = \"Earth\"\n",
    "diameter = 12742\n",
    "Use f-String to print the following string:\n",
    "The diameter of Earth is 12742 kilometers.**"
   ]
  },
  {
   "cell_type": "code",
   "execution_count": 6,
   "id": "6bed028b-2005-40d7-b87d-38fc8655ba84",
   "metadata": {},
   "outputs": [
    {
     "name": "stdout",
     "output_type": "stream",
     "text": [
      "The diameter of Earth is 12742 kilometers.\n"
     ]
    }
   ],
   "source": [
    "planet = \"Earth\"\n",
    "diameter = 12742\n",
    "print(f\"The diameter of {planet} is {diameter} kilometers.\")\n"
   ]
  },
  {
   "cell_type": "markdown",
   "id": "8fe6ca2a-0371-4bde-be2c-200133cba50b",
   "metadata": {},
   "source": [
    "**Given this nested list, use indexing to grab the word \"hello\"\n",
    "lst = [1,2,[3,4],[5,[100,200,['hello']],23,11],1,7]**\n",
    "\n"
   ]
  },
  {
   "cell_type": "code",
   "execution_count": 7,
   "id": "03e7fc1c-d335-4cbc-8a83-54315c272885",
   "metadata": {},
   "outputs": [
    {
     "name": "stdout",
     "output_type": "stream",
     "text": [
      "hello\n"
     ]
    }
   ],
   "source": [
    "lst = [1,2,[3,4],[5,[100,200,['hello']],23,11],1,7]\n",
    "print(lst[3][1][2][0])\n"
   ]
  },
  {
   "cell_type": "markdown",
   "id": "66b50607-db6f-4666-888e-58ef3339fd9d",
   "metadata": {},
   "source": [
    "**Given this nested dictionary grab the word \"hello\". Be prepared, this will be annoying/tricky\n",
    "d = {'k1':[1,2,3,{'tricky':['oh','man','inception',{'target':[1,2,3,'hello']}]}]}**"
   ]
  },
  {
   "cell_type": "code",
   "execution_count": 9,
   "id": "8a129353-3b96-429b-bbd1-f6e4de825e2c",
   "metadata": {},
   "outputs": [
    {
     "name": "stdout",
     "output_type": "stream",
     "text": [
      "hello\n"
     ]
    }
   ],
   "source": [
    "d = {'k1':[1,2,3,{'tricky':['oh','man','inception',{'target':[1,2,3,'hello']}]}]}\n",
    "print(d['k1'][3]['tricky'][3]['target'][3])  # 'hello'\n"
   ]
  },
  {
   "cell_type": "markdown",
   "id": "3ae6f996-8a2b-46fd-a3d9-3cdc48885698",
   "metadata": {},
   "source": [
    "**What is the main difference between a tuple and a list? Intentionally generate an error by changing a tuple value.**"
   ]
  },
  {
   "cell_type": "code",
   "execution_count": 13,
   "id": "be613b55-b38f-4b4a-b650-c30d3285ec04",
   "metadata": {},
   "outputs": [
    {
     "ename": "TypeError",
     "evalue": "'tuple' object does not support item assignment",
     "output_type": "error",
     "traceback": [
      "\u001b[0;31m---------------------------------------------------------------------------\u001b[0m",
      "\u001b[0;31mTypeError\u001b[0m                                 Traceback (most recent call last)",
      "Cell \u001b[0;32mIn[13], line 3\u001b[0m\n\u001b[1;32m      1\u001b[0m \u001b[38;5;66;03m# Tuple is immutable; list is mutable\u001b[39;00m\n\u001b[1;32m      2\u001b[0m my_tuple \u001b[38;5;241m=\u001b[39m (\u001b[38;5;241m1\u001b[39m, \u001b[38;5;241m2\u001b[39m, \u001b[38;5;241m3\u001b[39m)\n\u001b[0;32m----> 3\u001b[0m \u001b[43mmy_tuple\u001b[49m\u001b[43m[\u001b[49m\u001b[38;5;241;43m0\u001b[39;49m\u001b[43m]\u001b[49m \u001b[38;5;241m=\u001b[39m \u001b[38;5;241m5\u001b[39m  \u001b[38;5;66;03m# Uncomment to raise: TypeError: 'tuple' object does not support item assignment\u001b[39;00m\n",
      "\u001b[0;31mTypeError\u001b[0m: 'tuple' object does not support item assignment"
     ]
    }
   ],
   "source": [
    "# Tuple is immutable; list is mutable\n",
    "my_tuple = (1, 2, 3)\n",
    "my_tuple[0] = 5  # Uncomment to raise: TypeError: 'tuple' object does not support item assignment\n"
   ]
  },
  {
   "cell_type": "code",
   "execution_count": 14,
   "id": "8e2ec106-2a58-471d-a311-763072e27671",
   "metadata": {},
   "outputs": [
    {
     "name": "stdout",
     "output_type": "stream",
     "text": [
      "[12, 3, 4]\n"
     ]
    }
   ],
   "source": [
    "my_list = [1,3,4]\n",
    "my_list[0] = 12\n",
    "print(my_list)"
   ]
  },
  {
   "cell_type": "markdown",
   "id": "71526c02-1a35-4cb3-acd4-f1496dd1ee7a",
   "metadata": {},
   "source": [
    "**Create a function that grabs the email website domain from a string in the form:\n",
    "super_user@ee.pw.edu.pl\n",
    "So for example, passing \"super_user@ee.pw.edu.pl\" would return: ee.pw.edu.pl**"
   ]
  },
  {
   "cell_type": "code",
   "execution_count": 15,
   "id": "4cc415fa-a9d2-4115-bd26-eeb44a435e89",
   "metadata": {},
   "outputs": [
    {
     "name": "stdout",
     "output_type": "stream",
     "text": [
      "ee.pw.edu.pl\n"
     ]
    }
   ],
   "source": [
    "def get_domain(email):\n",
    "    return email.split('@')[1]\n",
    "\n",
    "print(get_domain(\"super_user@ee.pw.edu.pl\")) "
   ]
  },
  {
   "cell_type": "markdown",
   "id": "6ec5460a-69dc-4cc7-aa73-ed896af46316",
   "metadata": {},
   "source": [
    "**Create a basic function that returns True if the word 'car' is contained in the input string.\n",
    "Don't worry about edge cases like a punctuation being attached to the word car, but do account for capitalization.**"
   ]
  },
  {
   "cell_type": "code",
   "execution_count": 17,
   "id": "78c96819-c1d5-4b47-b4f6-f6c2e44978e9",
   "metadata": {},
   "outputs": [
    {
     "name": "stdout",
     "output_type": "stream",
     "text": [
      "True\n",
      "False\n"
     ]
    }
   ],
   "source": [
    "def contains_car(s):\n",
    "    return 'car' in s\n",
    "\n",
    "print(contains_car(\"That car is awesome \"))\n",
    "print(contains_car(\"That Car is awesome \"))\n"
   ]
  },
  {
   "cell_type": "markdown",
   "id": "ee64af9d-860d-464d-99a4-f5b72f114887",
   "metadata": {},
   "source": [
    "**Create a function that counts the number of times the word \"car\" occurs in a string. Make it case insensitive.\n",
    "Example:\n",
    "countCar('This car runs faster than the other car dude! Do you want to by this car?')\n",
    "3**"
   ]
  },
  {
   "cell_type": "code",
   "execution_count": 20,
   "id": "69f69dc2-f313-4a51-8b70-6339f080571c",
   "metadata": {},
   "outputs": [
    {
     "name": "stdout",
     "output_type": "stream",
     "text": [
      "3\n"
     ]
    }
   ],
   "source": [
    "def count_car(s):\n",
    "    split = s.split(' ')\n",
    "    counter = 0;\n",
    "    for i in split:\n",
    "        if 'car' in i:\n",
    "            counter = counter + 1\n",
    "    return counter\n",
    "\n",
    "print(count_car('This car runs faster than the other car dude! Do you want to by this car?'))"
   ]
  },
  {
   "cell_type": "markdown",
   "id": "5288eb82-72ae-4541-86d1-4e3b99a9baff",
   "metadata": {},
   "source": [
    "**Use lambda expressions and the filter() function to filter out words from a list that don't start with the letter 's'. Use list() for printing the result. For example:\n",
    "seq = ['soup','dog','salad','cat','great']\n",
    "should be filtered down to:\n",
    "['soup','salad']**"
   ]
  },
  {
   "cell_type": "code",
   "execution_count": 21,
   "id": "8cb251cf-df13-4705-b70d-9222bfb63015",
   "metadata": {},
   "outputs": [
    {
     "name": "stdout",
     "output_type": "stream",
     "text": [
      "['soup', 'salad']\n"
     ]
    }
   ],
   "source": [
    "seq = ['soup', 'dog', 'salad', 'cat', 'great']\n",
    "s_words = list(filter(lambda x: x.lower().startswith('s'), seq))\n",
    "print(s_words)  # ['soup', 'salad']\n"
   ]
  },
  {
   "cell_type": "markdown",
   "id": "043ca277-77ba-46e5-9b30-289b80c41fa2",
   "metadata": {},
   "source": [
    "**Too fast problem\n",
    "You are driving a little too fast, and a police officer stops you. Write a function to return \n",
    "one of 3 possible results: \"No ticket\", \"Small ticket\", or \"Big Ticket\". If your speed is 60 or less, the result is \"No Ticket\". \n",
    "If speed is between 61 and 80 inclusive, the result is \"Small Ticket\". If speed is 81 or more, the result is \"Big Ticket\".\n",
    "Unless it is your birthday (encoded as a boolean value in the parameters of the function) -- \n",
    "on your birthday, your speed can be 5 higher in all cases. Make the is_birthday parametr optional. Use a default value is_birthday=False.\n",
    "\n",
    "def caught_speeding(speed, is_birthday):\n",
    "    pass\n",
    "\n",
    "caught_speeding(81,True)\n",
    "'Small Ticket'\n",
    "\n",
    "caught_speeding(81,False)\n",
    "'Big Ticket'\n",
    "\n",
    "caught_speeding(82)\n",
    "'Big Ticket'**"
   ]
  },
  {
   "cell_type": "code",
   "execution_count": 29,
   "id": "8954e5ee-7e90-468f-b91f-09ea679f118b",
   "metadata": {},
   "outputs": [
    {
     "name": "stdout",
     "output_type": "stream",
     "text": [
      "Small Ticket\n",
      "Big Ticket\n",
      "Small Ticket\n"
     ]
    }
   ],
   "source": [
    "def caught_speeding(speed, birthday = False):\n",
    "    limit = 0\n",
    "    if(birthday):\n",
    "        limit = 5\n",
    "    if( speed <= 60 + limit):\n",
    "        return \"No Ticket\"\n",
    "    elif (speed >= 81 + limit):\n",
    "        return \"Big Ticket\"\n",
    "    else:\n",
    "        return \"Small Ticket\"\n",
    "\n",
    "print(caught_speeding(81,True))\n",
    "\n",
    "print(caught_speeding(81,False))\n",
    "print(caught_speeding(82, True))"
   ]
  },
  {
   "cell_type": "markdown",
   "id": "04cfb715-7d53-4ef1-aec5-8e6d7fa415f0",
   "metadata": {},
   "source": [
    "**Write a function that counts how many digits and how many letters has a specified as an argument text file \n",
    "(test your program on the Ex1_HistoryfPoland.md file). You should print the number of digits and the number of letters\n",
    "in percents relative to all characters. Why the numbers do not sum up to 100%? Use help, google or dir(' ') to \n",
    "find functions in Python responsible for checking if a character is letter or digit?**"
   ]
  },
  {
   "cell_type": "code",
   "execution_count": 32,
   "id": "326a92bf-d2c4-4ff0-8069-bac651ca48a2",
   "metadata": {},
   "outputs": [
    {
     "name": "stdout",
     "output_type": "stream",
     "text": [
      "Letters: 73.89%\n",
      "Digits: 4.55%\n",
      "Other chars (spaces, punctuations, etc.): 21.56%\n"
     ]
    }
   ],
   "source": [
    "def analyze_file(filename):\n",
    "    with open(filename, 'r', encoding='utf-8') as f:\n",
    "        text = f.read()\n",
    "\n",
    "    total = len(text)\n",
    "    letters = sum(c.isalpha() for c in text)\n",
    "    digits = sum(c.isdigit() for c in text)\n",
    "\n",
    "    print(f\"Letters: {letters / total * 100:.2f}%\")\n",
    "    print(f\"Digits: {digits / total * 100:.2f}%\")\n",
    "    print(f\"Other chars (spaces, punctuations, etc.): {(total - letters - digits) / total * 100:.2f}%\")\n",
    "\n",
    "analyze_file('./Ex1_HistoryfPoland.md')"
   ]
  },
  {
   "cell_type": "markdown",
   "id": "0e8988ce-96ef-4b80-9d44-3409baa93fa4",
   "metadata": {},
   "source": [
    "**Write a function that counts the number of digits in each line of a text file.\n",
    "The file name should be given as an argument.\n",
    "Do a small data explorative analysis and plot the distribution of number of digits with\n",
    "respect to line number using scatter plot function from matplotlib library. \n",
    "We just want to see in which region of the file we get the concentration of digits.\n",
    "This might be a feature for analysis of textual files (NLP).**\n"
   ]
  },
  {
   "cell_type": "code",
   "execution_count": 45,
   "id": "8e79b62c-34aa-44ae-8371-d278c4d3989b",
   "metadata": {},
   "outputs": [
    {
     "data": {
      "image/png": "[encoded data removed]",
      "text/plain": [
       "<Figure size 1000x500 with 1 Axes>"
      ]
     },
     "metadata": {},
     "output_type": "display_data"
    }
   ],
   "source": [
    "import matplotlib.pyplot as plt\n",
    "\n",
    "\n",
    "def count_digits_in_file(filename):\n",
    "    with open(filename, 'r',encoding='utf-8') as f:\n",
    "        text = f.read()\n",
    "    lines = text.split('\\n')\n",
    "    data = []\n",
    "    line_number = []\n",
    "    count = 0\n",
    "    for line in lines:\n",
    "        line_number.append(count)\n",
    "        count = count + 1\n",
    "        digits = 0\n",
    "        digits = sum(c.isdigit() for c in line)\n",
    "        data.append(digits)\n",
    "        \n",
    "    plt.figure(figsize=(10, 5))\n",
    "    plt.scatter(line_number, data, s=2)\n",
    "    plt.xlabel(\"Line Number\")\n",
    "    plt.ylabel(\"Digit Count\")\n",
    "    plt.title(\"Digit Distribution in File\")\n",
    "    plt.grid(True)\n",
    "    plt.show()\n",
    "\n",
    "\n",
    "count_digits_in_file('./Ex1_HistoryfPoland.md')"
   ]
  },
  {
   "cell_type": "code",
   "execution_count": null,
   "id": "6442b0e4-740e-4dfb-95f9-2167a621e2e2",
   "metadata": {},
   "outputs": [],
   "source": []
  }
 ],
 "metadata": {
  "kernelspec": {
   "display_name": "Python 3 (ipykernel)",
   "language": "python",
   "name": "python3"
  },
  "language_info": {
   "codemirror_mode": {
    "name": "ipython",
    "version": 3
   },
   "file_extension": ".py",
   "mimetype": "text/x-python",
   "name": "python",
   "nbconvert_exporter": "python",
   "pygments_lexer": "ipython3",
   "version": "3.11.0"
  }
 },
 "nbformat": 4,
 "nbformat_minor": 5
}
