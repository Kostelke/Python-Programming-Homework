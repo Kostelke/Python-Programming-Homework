{
 "cells": [
  {
   "cell_type": "code",
   "execution_count": null,
   "id": "0247c0c5-fd1c-49c4-a794-7da068f47ef2",
   "metadata": {},
   "outputs": [],
   "source": [
    "SF Salaries Exercise\n",
    "We will be using the SF Salaries Dataset from Kaggle! Just follow along and complete the tasks below. The tasks will\n",
    "get harder and harder as you go along.\n",
    "\n",
    "Import pandas as pd.\n",
    "\n",
    "Read Salaries.csv as a dataframe called sal.\n",
    "\n",
    "Check the head of the DataFrame.\n",
    "\n",
    "Index\tId\tEmployeeName\tJobTitle\tBasePay\tOvertimePay\tOtherPay\tBenefits\tTotalPay\tTotalPayBenefits\tYear\tNotes\tAgency\tStatus\n",
    "0\t1\tNATHANIEL FORD\tGENERAL MANAGER-METROPOLITAN TRANSIT AUTHORITY\t167411.18\t0.00\t400184.25\tNaN\t567595.43\t567595.43\t2011\tNaN\tSan Francisco\tNaN\n",
    "1\t2\tGARY JIMENEZ\tCAPTAIN III (POLICE DEPARTMENT)\t155966.02\t245131.88\t137811.38\tNaN\t538909.28\t538909.28\t2011\tNaN\tSan Francisco\tNaN\n",
    "2\t3\tALBERT PARDINI\tCAPTAIN III (POLICE DEPARTMENT)\t212739.13\t106088.18\t16452.60\tNaN\t335279.91\t335279.91\t2011\tNaN\tSan Francisco\tNaN\n",
    "3\t4\tCHRISTOPHER CHONG\tWIRE ROPE CABLE MAINTENANCE MECHANIC\t77916.00\t56120.71\t198306.90\tNaN\t332343.61\t332343.61\t2011\tNaN\tSan Francisco\tNaN\n",
    "4\t5\tPATRICK GARDNER\tDEPUTY CHIEF OF DEPARTMENT,(FIRE DEPARTMENT)\t134401.60\t9737.00\t182234.59\tNaN\t326373.19\t326373.19\t2011\tNaN\tSan Francisco\tNaN\n",
    "Use the .info() method to find out how many entries there are.\n",
    "\n",
    "...\n",
    "<class 'pandas.core.frame.DataFrame'>\n",
    "RangeIndex: 148654 entries, 0 to 148653\n",
    "Data columns (total 13 columns):\n",
    "Id                  148654 non-null int64\n",
    "EmployeeName        148654 non-null object\n",
    "JobTitle            148654 non-null object\n",
    "BasePay             148045 non-null float64\n",
    "OvertimePay         148650 non-null float64\n",
    "OtherPay            148650 non-null float64\n",
    "Benefits            112491 non-null float64\n",
    "TotalPay            148654 non-null float64\n",
    "TotalPayBenefits    148654 non-null float64\n",
    "Year                148654 non-null int64\n",
    "Notes               0 non-null float64\n",
    "Agency              148654 non-null object\n",
    "Status              0 non-null float64\n",
    "dtypes: float64(8), int64(2), object(3)\n",
    "memory usage: 14.7+ MB"
   ]
  },
  {
   "cell_type": "code",
   "execution_count": 2,
   "id": "0c633925-5152-4251-8890-f97d89f011f1",
   "metadata": {},
   "outputs": [
    {
     "name": "stdout",
     "output_type": "stream",
     "text": [
      "   Id       EmployeeName                                        JobTitle  \\\n",
      "0   1     NATHANIEL FORD  GENERAL MANAGER-METROPOLITAN TRANSIT AUTHORITY   \n",
      "1   2       GARY JIMENEZ                 CAPTAIN III (POLICE DEPARTMENT)   \n",
      "2   3     ALBERT PARDINI                 CAPTAIN III (POLICE DEPARTMENT)   \n",
      "3   4  CHRISTOPHER CHONG            WIRE ROPE CABLE MAINTENANCE MECHANIC   \n",
      "4   5    PATRICK GARDNER    DEPUTY CHIEF OF DEPARTMENT,(FIRE DEPARTMENT)   \n",
      "\n",
      "     BasePay  OvertimePay   OtherPay  Benefits   TotalPay  TotalPayBenefits  \\\n",
      "0  167411.18         0.00  400184.25       NaN  567595.43         567595.43   \n",
      "1  155966.02    245131.88  137811.38       NaN  538909.28         538909.28   \n",
      "2  212739.13    106088.18   16452.60       NaN  335279.91         335279.91   \n",
      "3   77916.00     56120.71  198306.90       NaN  332343.61         332343.61   \n",
      "4  134401.60      9737.00  182234.59       NaN  326373.19         326373.19   \n",
      "\n",
      "   Year  Notes         Agency  Status  \n",
      "0  2011    NaN  San Francisco     NaN  \n",
      "1  2011    NaN  San Francisco     NaN  \n",
      "2  2011    NaN  San Francisco     NaN  \n",
      "3  2011    NaN  San Francisco     NaN  \n",
      "4  2011    NaN  San Francisco     NaN  \n",
      "<class 'pandas.core.frame.DataFrame'>\n",
      "RangeIndex: 148654 entries, 0 to 148653\n",
      "Data columns (total 13 columns):\n",
      " #   Column            Non-Null Count   Dtype  \n",
      "---  ------            --------------   -----  \n",
      " 0   Id                148654 non-null  int64  \n",
      " 1   EmployeeName      148654 non-null  object \n",
      " 2   JobTitle          148654 non-null  object \n",
      " 3   BasePay           148045 non-null  float64\n",
      " 4   OvertimePay       148650 non-null  float64\n",
      " 5   OtherPay          148650 non-null  float64\n",
      " 6   Benefits          112491 non-null  float64\n",
      " 7   TotalPay          148654 non-null  float64\n",
      " 8   TotalPayBenefits  148654 non-null  float64\n",
      " 9   Year              148654 non-null  int64  \n",
      " 10  Notes             0 non-null       float64\n",
      " 11  Agency            148654 non-null  object \n",
      " 12  Status            0 non-null       float64\n",
      "dtypes: float64(8), int64(2), object(3)\n",
      "memory usage: 14.7+ MB\n",
      "None\n"
     ]
    }
   ],
   "source": [
    "import pandas as pd\n",
    "import matplotlib.pyplot as plt\n",
    "\n",
    "\n",
    "\n",
    "sal = pd.read_csv('Salaries.csv')\n",
    "\n",
    "\n",
    "print(sal.head())\n",
    "\n",
    "print(sal.info())"
   ]
  },
  {
   "cell_type": "code",
   "execution_count": null,
   "id": "1f51de7d-2ec3-4b39-983f-ce522c00a70d",
   "metadata": {},
   "outputs": [],
   "source": [
    "What is the average BasePay?\n",
    "\n",
    "...\n",
    "66325.44884050643"
   ]
  },
  {
   "cell_type": "code",
   "execution_count": 3,
   "id": "7341aa11-31fa-4c80-98b5-148b2cb19a79",
   "metadata": {},
   "outputs": [
    {
     "data": {
      "text/plain": [
       "66325.4488404877"
      ]
     },
     "execution_count": 3,
     "metadata": {},
     "output_type": "execute_result"
    }
   ],
   "source": [
    "sal[\"BasePay\"].mean()"
   ]
  },
  {
   "cell_type": "code",
   "execution_count": null,
   "id": "450b328d-2387-4a2b-8475-20f4e8a69583",
   "metadata": {},
   "outputs": [],
   "source": [
    "\n",
    "What is the highest amount of OvertimePay in the dataset ?\n",
    "\n",
    "....\n",
    "245131.88"
   ]
  },
  {
   "cell_type": "code",
   "execution_count": 4,
   "id": "8d351260-7323-46c1-abcf-da1fd4681346",
   "metadata": {},
   "outputs": [
    {
     "data": {
      "text/plain": [
       "245131.88"
      ]
     },
     "execution_count": 4,
     "metadata": {},
     "output_type": "execute_result"
    }
   ],
   "source": [
    "sal[\"OvertimePay\"].max()"
   ]
  },
  {
   "cell_type": "code",
   "execution_count": null,
   "id": "9a1e4cfa-e997-41a2-942b-fdcb439a1f91",
   "metadata": {},
   "outputs": [],
   "source": [
    "\n",
    "What is the job title of JOSEPH DRISCOLL ? Note: Use all caps, otherwise you may get an answer that doesn't \n",
    "match up (there is also a lowercase Joseph Driscoll).\n",
    "\n",
    "...\n",
    "24    CAPTAIN, FIRE SUPPRESSION\n",
    "Name: JobTitle, dtype: object"
   ]
  },
  {
   "cell_type": "code",
   "execution_count": 6,
   "id": "dbc37894-d23d-40b9-af1a-a30097d338ab",
   "metadata": {},
   "outputs": [
    {
     "data": {
      "text/plain": [
       "24    CAPTAIN, FIRE SUPPRESSION\n",
       "Name: JobTitle, dtype: object"
      ]
     },
     "execution_count": 6,
     "metadata": {},
     "output_type": "execute_result"
    }
   ],
   "source": [
    "sal[(sal[\"EmployeeName\"] == \"JOSEPH DRISCOLL\")][\"JobTitle\" ]"
   ]
  },
  {
   "cell_type": "code",
   "execution_count": null,
   "id": "4a8892c7-d2d9-4dc5-a90c-8788b0462039",
   "metadata": {},
   "outputs": [],
   "source": [
    "\n",
    "How much does JOSEPH DRISCOLL make (including benefits)?\n",
    "\n",
    "...\n",
    "24    270324.91\n",
    "Name: TotalPayBenefits, dtype: float64"
   ]
  },
  {
   "cell_type": "code",
   "execution_count": 7,
   "id": "5df09999-fd04-42e4-9e01-47e6c9dcadba",
   "metadata": {},
   "outputs": [
    {
     "data": {
      "text/plain": [
       "24    270324.91\n",
       "Name: TotalPay, dtype: float64"
      ]
     },
     "execution_count": 7,
     "metadata": {},
     "output_type": "execute_result"
    }
   ],
   "source": [
    "sal[(sal[\"EmployeeName\"] == \"JOSEPH DRISCOLL\")][\"TotalPay\"]"
   ]
  },
  {
   "cell_type": "code",
   "execution_count": null,
   "id": "02352edb-47b6-48c3-9154-0cb10dd07c71",
   "metadata": {},
   "outputs": [],
   "source": [
    "\n",
    "What is the name of highest paid person (including benefits)?\n",
    "\n",
    "...\n",
    "Id\tEmployeeName\tJobTitle\tBasePay\tOvertimePay\tOtherPay\tBenefits\tTotalPay\tTotalPayBenefits\tYear\tNotes\tAgency\tStatus\n",
    "0\t1\tNATHANIEL FORD\tGENERAL MANAGER-METROPOLITAN TRANSIT AUTHORITY\t167411.18\t0.0\t400184.25\tNaN\t567595.43\t567595.43\t2011\tNaN\tSan Francisco\tNaN"
   ]
  },
  {
   "cell_type": "code",
   "execution_count": 9,
   "id": "026c204a-427e-4dde-9bb5-6c1dccfae768",
   "metadata": {},
   "outputs": [
    {
     "data": {
      "text/html": [
       "<div>\n",
       "<style scoped>\n",
       "    .dataframe tbody tr th:only-of-type {\n",
       "        vertical-align: middle;\n",
       "    }\n",
       "\n",
       "    .dataframe tbody tr th {\n",
       "        vertical-align: top;\n",
       "    }\n",
       "\n",
       "    .dataframe thead th {\n",
       "        text-align: right;\n",
       "    }\n",
       "</style>\n",
       "<table border=\"1\" class=\"dataframe\">\n",
       "  <thead>\n",
       "    <tr style=\"text-align: right;\">\n",
       "      <th></th>\n",
       "      <th>Id</th>\n",
       "      <th>EmployeeName</th>\n",
       "      <th>JobTitle</th>\n",
       "      <th>BasePay</th>\n",
       "      <th>OvertimePay</th>\n",
       "      <th>OtherPay</th>\n",
       "      <th>Benefits</th>\n",
       "      <th>TotalPay</th>\n",
       "      <th>TotalPayBenefits</th>\n",
       "      <th>Year</th>\n",
       "      <th>Notes</th>\n",
       "      <th>Agency</th>\n",
       "      <th>Status</th>\n",
       "    </tr>\n",
       "  </thead>\n",
       "  <tbody>\n",
       "    <tr>\n",
       "      <th>0</th>\n",
       "      <td>1</td>\n",
       "      <td>NATHANIEL FORD</td>\n",
       "      <td>GENERAL MANAGER-METROPOLITAN TRANSIT AUTHORITY</td>\n",
       "      <td>167411.18</td>\n",
       "      <td>0.0</td>\n",
       "      <td>400184.25</td>\n",
       "      <td>NaN</td>\n",
       "      <td>567595.43</td>\n",
       "      <td>567595.43</td>\n",
       "      <td>2011</td>\n",
       "      <td>NaN</td>\n",
       "      <td>San Francisco</td>\n",
       "      <td>NaN</td>\n",
       "    </tr>\n",
       "  </tbody>\n",
       "</table>\n",
       "</div>"
      ],
      "text/plain": [
       "   Id    EmployeeName                                        JobTitle  \\\n",
       "0   1  NATHANIEL FORD  GENERAL MANAGER-METROPOLITAN TRANSIT AUTHORITY   \n",
       "\n",
       "     BasePay  OvertimePay   OtherPay  Benefits   TotalPay  TotalPayBenefits  \\\n",
       "0  167411.18          0.0  400184.25       NaN  567595.43         567595.43   \n",
       "\n",
       "   Year  Notes         Agency  Status  \n",
       "0  2011    NaN  San Francisco     NaN  "
      ]
     },
     "execution_count": 9,
     "metadata": {},
     "output_type": "execute_result"
    }
   ],
   "source": [
    "sal[sal[\"TotalPay\"] == sal[\"TotalPay\"].max()]"
   ]
  },
  {
   "cell_type": "code",
   "execution_count": null,
   "id": "b2a68a29-70ad-47a7-b9b8-716603dcb20d",
   "metadata": {},
   "outputs": [],
   "source": [
    "\n",
    "What is the name of lowest paid person (including benefits)? Do you notice something strange about how much he or she is paid?\n",
    "\n",
    "...\n",
    "Id\tEmployeeName\tJobTitle\tBasePay\tOvertimePay\tOtherPay\tBenefits\tTotalPay\tTotalPayBenefits\tYear\tNotes\tAgency\tStatus\n",
    "148653\t148654\tJoe Lopez\tCounselor, Log Cabin Ranch\t0.0\t0.0\t-618.13\t0.0\t-618.13\t-618.13\t2014\tNaN\tSan Francisco\tNaN"
   ]
  },
  {
   "cell_type": "code",
   "execution_count": 10,
   "id": "c483f6da-13ae-41a1-bffe-a3c7ce48f6f6",
   "metadata": {},
   "outputs": [
    {
     "data": {
      "text/html": [
       "<div>\n",
       "<style scoped>\n",
       "    .dataframe tbody tr th:only-of-type {\n",
       "        vertical-align: middle;\n",
       "    }\n",
       "\n",
       "    .dataframe tbody tr th {\n",
       "        vertical-align: top;\n",
       "    }\n",
       "\n",
       "    .dataframe thead th {\n",
       "        text-align: right;\n",
       "    }\n",
       "</style>\n",
       "<table border=\"1\" class=\"dataframe\">\n",
       "  <thead>\n",
       "    <tr style=\"text-align: right;\">\n",
       "      <th></th>\n",
       "      <th>Id</th>\n",
       "      <th>EmployeeName</th>\n",
       "      <th>JobTitle</th>\n",
       "      <th>BasePay</th>\n",
       "      <th>OvertimePay</th>\n",
       "      <th>OtherPay</th>\n",
       "      <th>Benefits</th>\n",
       "      <th>TotalPay</th>\n",
       "      <th>TotalPayBenefits</th>\n",
       "      <th>Year</th>\n",
       "      <th>Notes</th>\n",
       "      <th>Agency</th>\n",
       "      <th>Status</th>\n",
       "    </tr>\n",
       "  </thead>\n",
       "  <tbody>\n",
       "    <tr>\n",
       "      <th>148653</th>\n",
       "      <td>148654</td>\n",
       "      <td>Joe Lopez</td>\n",
       "      <td>Counselor, Log Cabin Ranch</td>\n",
       "      <td>0.0</td>\n",
       "      <td>0.0</td>\n",
       "      <td>-618.13</td>\n",
       "      <td>0.0</td>\n",
       "      <td>-618.13</td>\n",
       "      <td>-618.13</td>\n",
       "      <td>2014</td>\n",
       "      <td>NaN</td>\n",
       "      <td>San Francisco</td>\n",
       "      <td>NaN</td>\n",
       "    </tr>\n",
       "  </tbody>\n",
       "</table>\n",
       "</div>"
      ],
      "text/plain": [
       "            Id EmployeeName                    JobTitle  BasePay  OvertimePay  \\\n",
       "148653  148654    Joe Lopez  Counselor, Log Cabin Ranch      0.0          0.0   \n",
       "\n",
       "        OtherPay  Benefits  TotalPay  TotalPayBenefits  Year  Notes  \\\n",
       "148653   -618.13       0.0   -618.13           -618.13  2014    NaN   \n",
       "\n",
       "               Agency  Status  \n",
       "148653  San Francisco     NaN  "
      ]
     },
     "execution_count": 10,
     "metadata": {},
     "output_type": "execute_result"
    }
   ],
   "source": [
    "sal[sal[\"TotalPay\"] == sal[\"TotalPay\"].min()]"
   ]
  },
  {
   "cell_type": "code",
   "execution_count": null,
   "id": "12ba2a36-7e05-4945-a9c3-23c8f8bf06f9",
   "metadata": {},
   "outputs": [],
   "source": [
    "\n",
    "What was the average (mean) BasePay of all employees per year? (2011-2014)?\n",
    "\n",
    "...\n",
    "    Year\n",
    "    2011    63595.956517\n",
    "    2012    65436.406857\n",
    "    2013    69630.030216\n",
    "    2014    66564.421924\n",
    "    Name: BasePay, dtype: float64"
   ]
  },
  {
   "cell_type": "code",
   "execution_count": 11,
   "id": "a702b4f5-aa93-4e2c-b660-136590a52d94",
   "metadata": {},
   "outputs": [
    {
     "name": "stdout",
     "output_type": "stream",
     "text": [
      "Year\n",
      "2011    63595.956517\n",
      "2012    65436.406857\n",
      "2013    69630.030216\n",
      "2014    66564.421924\n",
      "Name: BasePay, dtype: float64\n"
     ]
    }
   ],
   "source": [
    "sal.groupby('Year')['BasePay'].mean()"
   ]
  },
  {
   "cell_type": "code",
   "execution_count": null,
   "id": "01eaecfd-2b2a-4c38-8f31-4191dd9c55fd",
   "metadata": {},
   "outputs": [],
   "source": [
    "\n",
    "How many unique job titles are there?\n",
    "\n",
    "...\n",
    "2159"
   ]
  },
  {
   "cell_type": "code",
   "execution_count": 14,
   "id": "d5c63317-3092-46eb-ae5d-ce4367c7a290",
   "metadata": {},
   "outputs": [
    {
     "data": {
      "text/plain": [
       "2159"
      ]
     },
     "execution_count": 14,
     "metadata": {},
     "output_type": "execute_result"
    }
   ],
   "source": [
    "len(sal['JobTitle'].unique())"
   ]
  },
  {
   "cell_type": "code",
   "execution_count": null,
   "id": "a844e063-78c6-4751-8d17-fcdba5e6f87e",
   "metadata": {},
   "outputs": [],
   "source": [
    "\n",
    "What are the top 5 most common jobs?\n",
    "\n",
    "...\n",
    "    Transit Operator                7036\n",
    "    Special Nurse                   4389\n",
    "    Registered Nurse                3736\n",
    "    Public Svc Aide-Public Works    2518\n",
    "    Police Officer 3                2421\n",
    "    Name: JobTitle, dtype: int64"
   ]
  },
  {
   "cell_type": "code",
   "execution_count": 15,
   "id": "96e9b1e4-b6b0-447e-a9b3-ec8bee3a3dcf",
   "metadata": {},
   "outputs": [
    {
     "data": {
      "text/plain": [
       "JobTitle\n",
       "Transit Operator                7036\n",
       "Special Nurse                   4389\n",
       "Registered Nurse                3736\n",
       "Public Svc Aide-Public Works    2518\n",
       "Police Officer 3                2421\n",
       "Name: count, dtype: int64"
      ]
     },
     "execution_count": 15,
     "metadata": {},
     "output_type": "execute_result"
    }
   ],
   "source": [
    "sal['JobTitle'].value_counts().head(5)"
   ]
  },
  {
   "cell_type": "code",
   "execution_count": null,
   "id": "27da912a-8917-4117-9c66-a89d3b56f6d8",
   "metadata": {},
   "outputs": [],
   "source": [
    "How many Job Titles were represented by only one person in 2013? (e.g. Job Titles with only one occurence in 2013?)\n",
    "\n",
    "...\n",
    "202\n"
   ]
  },
  {
   "cell_type": "code",
   "execution_count": 17,
   "id": "fa3c733c-a395-4966-b251-256cc440c13d",
   "metadata": {},
   "outputs": [
    {
     "data": {
      "text/plain": [
       "202"
      ]
     },
     "execution_count": 17,
     "metadata": {},
     "output_type": "execute_result"
    }
   ],
   "source": [
    "jobs = sal[sal[\"Year\"] == 2013][\"JobTitle\"].value_counts()\n",
    "sum(jobs == 1)"
   ]
  },
  {
   "cell_type": "code",
   "execution_count": null,
   "id": "513a57e1-1919-4491-89c0-d5ead4b4983e",
   "metadata": {},
   "outputs": [],
   "source": [
    "\n",
    "\n",
    "How many people have the word Chief in their job title? (This is pretty tricky)\n",
    "\n",
    "...\n",
    "423 "
   ]
  },
  {
   "cell_type": "code",
   "execution_count": 22,
   "id": "456b3704-1e22-43e7-894c-c8240e6f343c",
   "metadata": {},
   "outputs": [
    {
     "data": {
      "text/plain": [
       "423"
      ]
     },
     "execution_count": 22,
     "metadata": {},
     "output_type": "execute_result"
    }
   ],
   "source": [
    "sal['JobTitle'].apply(lambda x: 'Chief' in x).sum()"
   ]
  },
  {
   "cell_type": "code",
   "execution_count": null,
   "id": "4436fa79-1a07-471b-8de9-c086798dc958",
   "metadata": {},
   "outputs": [],
   "source": [
    "\n",
    "Is there a correlation between length of the Job Title string and Salary?\n",
    "\n",
    "...\n",
    "title_len\tTotalPayBenefits\n",
    "title_len\t1.000000\t-0.036878\n",
    "TotalPayBenefits\t-0.036878\t1.000000"
   ]
  },
  {
   "cell_type": "code",
   "execution_count": 23,
   "id": "d95f8cb6-9573-4126-9641-79bcf906ae72",
   "metadata": {},
   "outputs": [
    {
     "data": {
      "text/html": [
       "<div>\n",
       "<style scoped>\n",
       "    .dataframe tbody tr th:only-of-type {\n",
       "        vertical-align: middle;\n",
       "    }\n",
       "\n",
       "    .dataframe tbody tr th {\n",
       "        vertical-align: top;\n",
       "    }\n",
       "\n",
       "    .dataframe thead th {\n",
       "        text-align: right;\n",
       "    }\n",
       "</style>\n",
       "<table border=\"1\" class=\"dataframe\">\n",
       "  <thead>\n",
       "    <tr style=\"text-align: right;\">\n",
       "      <th></th>\n",
       "      <th>title_len</th>\n",
       "      <th>TotalPayBenefits</th>\n",
       "    </tr>\n",
       "  </thead>\n",
       "  <tbody>\n",
       "    <tr>\n",
       "      <th>title_len</th>\n",
       "      <td>1.000000</td>\n",
       "      <td>-0.036878</td>\n",
       "    </tr>\n",
       "    <tr>\n",
       "      <th>TotalPayBenefits</th>\n",
       "      <td>-0.036878</td>\n",
       "      <td>1.000000</td>\n",
       "    </tr>\n",
       "  </tbody>\n",
       "</table>\n",
       "</div>"
      ],
      "text/plain": [
       "                  title_len  TotalPayBenefits\n",
       "title_len          1.000000         -0.036878\n",
       "TotalPayBenefits  -0.036878          1.000000"
      ]
     },
     "execution_count": 23,
     "metadata": {},
     "output_type": "execute_result"
    }
   ],
   "source": [
    "sal['title_len'] = sal['JobTitle'].apply(len)\n",
    "sal[['title_len', 'TotalPayBenefits']].corr()"
   ]
  },
  {
   "cell_type": "code",
   "execution_count": null,
   "id": "801f4739-de0e-4e87-a791-472d58888874",
   "metadata": {},
   "outputs": [],
   "source": [
    "Generate a histogram plot of base salary with 30 bins?"
   ]
  },
  {
   "cell_type": "code",
   "execution_count": 24,
   "id": "3bb54382-298c-47e0-994f-cd845c0690b9",
   "metadata": {},
   "outputs": [
    {
     "data": {
      "image/png": "[encoded data removed]",
      "text/plain": [
       "<Figure size 1000x600 with 1 Axes>"
      ]
     },
     "metadata": {},
     "output_type": "display_data"
    }
   ],
   "source": [
    "plt.figure(figsize=(10, 6))\n",
    "plt.hist(sal['BasePay'].dropna(), bins=30, color='steelblue', edgecolor='white')\n",
    "plt.title('BasePay Histogram')\n",
    "plt.xlabel('BasePay')\n",
    "plt.ylabel('Frequency')\n",
    "plt.grid(color='white')\n",
    "plt.gca().set_facecolor('#f0f4f8')  # light off-blue background\n",
    "plt.show()"
   ]
  },
  {
   "cell_type": "code",
   "execution_count": null,
   "id": "96c88e34-f247-4970-84aa-e43a655c82ca",
   "metadata": {},
   "outputs": [],
   "source": []
  }
 ],
 "metadata": {
  "kernelspec": {
   "display_name": "Python 3 (ipykernel)",
   "language": "python",
   "name": "python3"
  },
  "language_info": {
   "codemirror_mode": {
    "name": "ipython",
    "version": 3
   },
   "file_extension": ".py",
   "mimetype": "text/x-python",
   "name": "python",
   "nbconvert_exporter": "python",
   "pygments_lexer": "ipython3",
   "version": "3.11.0"
  }
 },
 "nbformat": 4,
 "nbformat_minor": 5
}
