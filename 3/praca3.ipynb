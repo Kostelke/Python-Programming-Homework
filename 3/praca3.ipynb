{
 "cells": [
  {
   "cell_type": "markdown",
   "id": "be3108c0-f08b-444b-af1a-2285697b43d5",
   "metadata": {},
   "source": [
    "Task 1 (Generators and lists comprehensions refresher)\n",
    "Calculate a value of a polynomial for a vector of x coordinates using: (a) single line list comprehension expression and (b) a generator.\n",
    "\n",
    "p(x)=c0+c1x+c2x2+…+cnxn\n",
    "\n",
    "Hint! You must apply the enumerate() and sum() functions\n",
    "\n",
    "Test code:\n",
    "\n",
    "c = [1,2,3]\n",
    "x = [0, 2, 4, 8]\n",
    "p = _____\n",
    "print(p)\n",
    "\n",
    "Should print:\n",
    "[1, 17, 57, 209]\n",
    "\n",
    "where c is the vector of coefficients of a polynomial: p(x) = c(0) + c(1)*x + c(2)*x**2.\n"
   ]
  },
  {
   "cell_type": "code",
   "execution_count": 1,
   "id": "56731741-025a-4147-82e4-6e3b4a470967",
   "metadata": {},
   "outputs": [
    {
     "name": "stdout",
     "output_type": "stream",
     "text": [
      "[1, 17, 57, 209]\n",
      "[1, 17, 57, 209]\n"
     ]
    }
   ],
   "source": [
    "# coefficients\n",
    "c = [1, 2, 3]\n",
    "x = [0, 2, 4, 8]\n",
    "\n",
    "# (a) list comprehension\n",
    "p_list = [sum(coef * (xi ** power) for power, coef in enumerate(c)) for xi in x]\n",
    "\n",
    "# (b) generator (example usage: list() to see values)\n",
    "p_gen = (sum(coef * (xi ** power) for power, coef in enumerate(c)) for xi in x)\n",
    "\n",
    "print(p_list)      # [1, 17, 57, 209]\n",
    "print(list(p_gen)) # [1, 17, 57, 209]"
   ]
  },
  {
   "cell_type": "markdown",
   "id": "e0fc01e0-0ac4-4387-a74f-83f3c9e8ead6",
   "metadata": {},
   "source": [
    "\n",
    "Task 2\n",
    "Generate a smooth plot of the polynomial function from Task 1 using dense vector of x coordinates samples for x∈<0,8>\n",
    ":\n",
    "\n",
    "n = 100\n",
    "xd = ...\n",
    "Example of using a plot:\n",
    "\n",
    "import matplotlib.pyplot as plt\n",
    "x = [...]\n",
    "y = [x**2 for x in x]\n",
    "plt.plot(x,y)\n",
    "Expected result:\n"
   ]
  },
  {
   "cell_type": "code",
   "execution_count": 2,
   "id": "f8eeea01-132d-47e8-b95f-fde2255ebb6a",
   "metadata": {},
   "outputs": [
    {
     "data": {
      "image/png": "[encoded data removed]",
      "text/plain": [
       "<Figure size 640x480 with 1 Axes>"
      ]
     },
     "metadata": {},
     "output_type": "display_data"
    }
   ],
   "source": [
    "import matplotlib.pyplot as plt\n",
    "import numpy as np\n",
    "\n",
    "c = [1, 2, 3]\n",
    "n = 100\n",
    "\n",
    "xd = np.linspace(0, 8, n)\n",
    "yd = [sum(coef * (xi ** power) for power, coef in enumerate(c)) for xi in xd]\n",
    "\n",
    "plt.plot(xd, yd)\n",
    "plt.title(\"Polynomial Plot\")\n",
    "plt.xlabel(\"x\")\n",
    "plt.ylabel(\"p(x)\")\n",
    "plt.show()"
   ]
  },
  {
   "cell_type": "markdown",
   "id": "cf55923d-e6f4-4365-8d59-f28839611fd0",
   "metadata": {},
   "source": [
    "Task 3\n",
    "Lets get back to History_of_poland.md file. Let we try to find an average value of digits in lines. But, let we assume that the evaluation cost of determining average values of digits is expensive. (I know it it isn't. But let we just agree for this for a moment.) Now we want to randomly choose for example 10% of lines from the file and assume that this is a representative group. Now we can calculate average value of digits for this group. To complete the task we shall do:\n",
    "\n",
    "Implement a function in form of a function generator which will return on request a portion of given size of lines (a batch) from file only when the the new portion will be below 10% of the files size.\n",
    "Implement a function which will use the lines generator to find average value of digits in lines.\n",
    "Script outline:\n",
    "\n",
    "def get_lines_batch(batchsize, filename, test_ratio=0.1):\n",
    "   \"You should use yield somewhere here\"\n",
    "   pass\n",
    "\n",
    "def get_mean_digits(filename, test_ratio):\n",
    "   \"You should use the get_lines_batch above\"\n",
    "   pass\n",
    "\n",
    "get_mean_digits('History_of_poland.md', 0.1)"
   ]
  },
  {
   "cell_type": "code",
   "execution_count": 9,
   "id": "2268383a-7009-4e06-af3b-e7fd4203a15f",
   "metadata": {},
   "outputs": [
    {
     "name": "stdout",
     "output_type": "stream",
     "text": [
      "Average digits per line in sampled batch: 18.40\n"
     ]
    }
   ],
   "source": [
    "import random\n",
    "\n",
    "def get_lines_batch(batchsize, filename, test_ratio=0.1):\n",
    "    with open(filename, 'r', encoding='utf-8') as f:\n",
    "        lines = f.readlines()\n",
    "    total_lines = len(lines)\n",
    "    max_batch_size = int(total_lines * test_ratio)\n",
    "\n",
    "    if batchsize > max_batch_size:\n",
    "        batchsize = max_batch_size\n",
    "\n",
    "    # Yield random batches of lines of size batchsize\n",
    "    for _ in range(0, total_lines, batchsize):\n",
    "        batch = random.sample(lines, batchsize)\n",
    "        yield batch\n",
    "\n",
    "def get_mean_digits(filename, test_ratio=0.1):\n",
    "    batches = get_lines_batch(batchsize=10, filename=filename, test_ratio=test_ratio)\n",
    "    digits_counts = []\n",
    "    for batch in batches:\n",
    "        for line in batch:\n",
    "            digits_counts.append(sum(c.isdigit() for c in line))\n",
    "        break  # Only one batch\n",
    "\n",
    "    mean_digits = sum(digits_counts) / len(digits_counts) if digits_counts else 0\n",
    "    print(f\"Average digits per line in sampled batch: {mean_digits:.2f}\")\n",
    "\n",
    "\n",
    "get_mean_digits('./Ex1_HistoryfPoland.md', 0.1)"
   ]
  },
  {
   "cell_type": "markdown",
   "id": "f6cd3e5e-154b-4eb1-8179-c46a4b9f81b9",
   "metadata": {},
   "source": [
    "Task 4\n",
    "Using a list comprehension with conditional expression, convert all occurrences of the letter 'e' in the following string to uppercase: 'thepurposeoflife is extremelly important'\n",
    "\n",
    "You can use ''.join( alist ) to join a list of characters into a single string.\n",
    "\n",
    "upperstr = 'thepurposeoflife is extremelly important'\n",
    "upperstr = ______\n",
    "print(upperstr)"
   ]
  },
  {
   "cell_type": "code",
   "execution_count": 10,
   "id": "1ed5f2aa-3ed8-4799-8a68-bcdc37552195",
   "metadata": {},
   "outputs": [
    {
     "name": "stdout",
     "output_type": "stream",
     "text": [
      "thEpurposEoflifE is ExtrEmElly important\n"
     ]
    }
   ],
   "source": [
    "upperstr = 'thepurposeoflife is extremelly important'\n",
    "upperstr = ''.join([ch.upper() if ch == 'e' else ch for ch in upperstr])\n",
    "print(upperstr)"
   ]
  },
  {
   "cell_type": "markdown",
   "id": "7f8a8628-01ac-497e-981b-5ad473556045",
   "metadata": {},
   "source": [
    "Task 5 - tuples as records\n",
    "Use the following tuple of tuples\n",
    "records = (('Sam', 19, 'CS'),\n",
    "('Nicole', 21, 'Biochemistry'),\n",
    "('Paul', 20, 'Fine Arts'),\n",
    "('Ashley', 18, 'History'))\n",
    "iterate over the records, unpack them, and print the tuples in a formatted form\n",
    "this might be useful syntax for printing:\n",
    "print('%s and %d and %s', % ('a string', 10, 'another string'))\n",
    "Make two functions to complete the following tasks:\n",
    "def showrecords(records):  \n",
    "    '''Unpack records stored in a tuple of tuples and print each one in a nice format'''\n",
    "    ...  \n",
    "def mean_records(records):  \n",
    "    '''Unpack records stored in a tuple of tuples and an average value of second column in a nice format'''\n",
    "    ...  \n",
    "showrecords(___)\n",
    "mean_records(___)"
   ]
  },
  {
   "cell_type": "code",
   "execution_count": 11,
   "id": "f6f1dbfd-aa12-4577-a0d7-4593f07288f0",
   "metadata": {},
   "outputs": [
    {
     "name": "stdout",
     "output_type": "stream",
     "text": [
      "Sam is 19 years old and studies CS\n",
      "Nicole is 21 years old and studies Biochemistry\n",
      "Paul is 20 years old and studies Fine Arts\n",
      "Ashley is 18 years old and studies History\n",
      "Average age is 19.50\n"
     ]
    }
   ],
   "source": [
    "records = (\n",
    "    ('Sam', 19, 'CS'),\n",
    "    ('Nicole', 21, 'Biochemistry'),\n",
    "    ('Paul', 20, 'Fine Arts'),\n",
    "    ('Ashley', 18, 'History')\n",
    ")\n",
    "\n",
    "def showrecords(records):\n",
    "    for name, age, major in records:\n",
    "        print('%s is %d years old and studies %s' % (name, age, major))\n",
    "\n",
    "def mean_records(records):\n",
    "    ages = [age for _, age, _ in records]\n",
    "    mean_age = sum(ages) / len(ages)\n",
    "    print('Average age is %.2f' % mean_age)\n",
    "\n",
    "showrecords(records)\n",
    "mean_records(records)"
   ]
  },
  {
   "cell_type": "markdown",
   "id": "bebf9a56-5494-4794-b035-1720e3ba0682",
   "metadata": {},
   "source": [
    "Task 6 - Closures\n",
    "Make a nested function and a python closure which will do possible making functions to get multiple multiplication functions. That is using closures, one could make functions to create multiply_with_5() or multiply_with_4() functions using closures. The closure should take scalar multiple coefficient.\n",
    "\n",
    "def multiplier_of(x):\n",
    "  ____\n",
    "\n",
    "# test code\n",
    "multiply_with_5 = multiplier_of(5)\n",
    "print(multiply_with_5(9))\n",
    "# should return 45\n",
    "\n",
    "multiply_with_45 = multiplier_of(multiply_with_5(9))\n",
    "print(multiply_with_45(2))\n",
    "# should return: 90\n"
   ]
  },
  {
   "cell_type": "code",
   "execution_count": 13,
   "id": "4f3f0423-d161-4cf1-a72e-4ddde907f384",
   "metadata": {},
   "outputs": [
    {
     "name": "stdout",
     "output_type": "stream",
     "text": [
      "45\n",
      "90\n"
     ]
    }
   ],
   "source": [
    "def multiplier_of(x):\n",
    "    def multiplier(n):\n",
    "        return x * n\n",
    "    return multiplier\n",
    "\n",
    "# Test\n",
    "multiply_with_5 = multiplier_of(5)\n",
    "print(multiply_with_5(9))\n",
    "\n",
    "multiply_with_45 = multiplier_of(multiply_with_5(9))\n",
    "print(multiply_with_45(2))\n"
   ]
  },
  {
   "cell_type": "markdown",
   "id": "51e52573-3913-49bd-9edf-de90014f61ff",
   "metadata": {},
   "source": [
    "Task 7 - decorators with arguments\n",
    "Make a decorator factory which returns a decorator that decorates functions with one argument. The factory should take one argument, a type, and then returns a decorator that makes function should check if the input is the correct type. If it is wrong, it should print(\"Bad Type\") (In reality, it should raise an error, but error raising we'll do in next task.). Look at the expected output to see what it is if you are confused (I know I would be.) Using isinstance(object, type_of_object) or type(object) might help.\n",
    "\n",
    "def type_check(correct_type):\n",
    "    def check(old_function):\n",
    "\n",
    "        ____\n",
    "\n",
    "    return check\n",
    "  \n",
    "# Use  isinstance(arg, correct_type) to check if arg is of correct type\n",
    "\n",
    "@type_check(int)\n",
    "def times2(num):\n",
    "    return num*2\n",
    "\n",
    "print(times2(2))\n",
    "times2('Not A Number')\n",
    "\n",
    "@type_check(str)\n",
    "def first_letter(word):\n",
    "    return word[0]\n",
    "\n",
    "print(first_letter('Hello World'))\n",
    "first_letter(['Not', 'A', 'String'])\n",
    "Should produce:\n",
    "\n",
    "4\n",
    "Bad Type\n",
    "H\n",
    "Bad Type"
   ]
  },
  {
   "cell_type": "code",
   "execution_count": 14,
   "id": "af4caca7-1196-48d4-b7ff-90c29c10c397",
   "metadata": {},
   "outputs": [
    {
     "name": "stdout",
     "output_type": "stream",
     "text": [
      "4\n",
      "Bad Type\n",
      "H\n",
      "Bad Type\n"
     ]
    }
   ],
   "source": [
    "def type_check(correct_type):\n",
    "    def check(old_function):\n",
    "        def new_function(arg):\n",
    "            if not isinstance(arg, correct_type):\n",
    "                print(\"Bad Type\")\n",
    "                return\n",
    "            return old_function(arg)\n",
    "        return new_function\n",
    "    return check\n",
    "\n",
    "@type_check(int)\n",
    "def times2(num):\n",
    "    return num * 2\n",
    "\n",
    "print(times2(2))      \n",
    "times2('Not A Number')\n",
    "\n",
    "@type_check(str)\n",
    "def first_letter(word):\n",
    "    return word[0]\n",
    "\n",
    "print(first_letter('Hello World'))\n",
    "first_letter(['Not', 'A', 'String'])\n"
   ]
  },
  {
   "cell_type": "markdown",
   "id": "24f3b9ee-3b86-4f1a-87d5-ca01e38d2a14",
   "metadata": {},
   "source": [
    "Task 8 - Registering Plugins\n",
    "Key takeaway: global variables, statefull decorators.\n",
    "\n",
    "Decorators don’t have to wrap the function they’re decorating. They can also simply register that a function exists and return it unwrapped. This can be used, for instance, to create a light-weight plug-in architecture:\n",
    "\n",
    "import random\n",
    "PLUGINS = dict()\n",
    "\n",
    "def register(func):\n",
    "    ______\n",
    "\n",
    "@register\n",
    "def say_hello(name):\n",
    "    return f\"Hello {name}\"\n",
    "\n",
    "@register\n",
    "def be_awesome(name):\n",
    "    return f\"Yo {name}, together we are the awesomest!\"\n",
    "\n",
    "def randomly_greet(name):\n",
    "    greeter, greeter_func = random.choice(list(PLUGINS.items()))\n",
    "    print(f\"Using {greeter!r}\")\n",
    "    return greeter_func(name)\n",
    "  \n",
    "randomly_greet('John')  "
   ]
  },
  {
   "cell_type": "code",
   "execution_count": 18,
   "id": "df42853d-7e16-494d-869f-81be7c239848",
   "metadata": {},
   "outputs": [
    {
     "name": "stdout",
     "output_type": "stream",
     "text": [
      "Using 'say_hello'\n",
      "Hello John\n"
     ]
    }
   ],
   "source": [
    "import random\n",
    "\n",
    "PLUGINS = dict()\n",
    "\n",
    "def register(func):\n",
    "    PLUGINS[func.__name__] = func\n",
    "    return func\n",
    "\n",
    "@register\n",
    "def say_hello(name):\n",
    "    return f\"Hello {name}\"\n",
    "\n",
    "@register\n",
    "def be_awesome(name):\n",
    "    return f\"Yo {name}, together we are the awesomest!\"\n",
    "\n",
    "def randomly_greet(name):\n",
    "    greeter, greeter_func = random.choice(list(PLUGINS.items()))\n",
    "    print(f\"Using {greeter!r}\")\n",
    "    return greeter_func(name)\n",
    "\n",
    "print(randomly_greet('John'))\n"
   ]
  },
  {
   "cell_type": "code",
   "execution_count": null,
   "id": "f8654ccd-f677-4f56-883b-71471a6eceb8",
   "metadata": {},
   "outputs": [],
   "source": []
  }
 ],
 "metadata": {
  "kernelspec": {
   "display_name": "Python 3 (ipykernel)",
   "language": "python",
   "name": "python3"
  },
  "language_info": {
   "codemirror_mode": {
    "name": "ipython",
    "version": 3
   },
   "file_extension": ".py",
   "mimetype": "text/x-python",
   "name": "python",
   "nbconvert_exporter": "python",
   "pygments_lexer": "ipython3",
   "version": "3.11.0"
  }
 },
 "nbformat": 4,
 "nbformat_minor": 5
}
